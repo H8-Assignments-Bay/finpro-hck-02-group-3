{
 "cells": [
  {
   "cell_type": "code",
   "execution_count": 37,
   "metadata": {},
   "outputs": [],
   "source": [
    "#import libraries \n",
    "from datetime import datetime\n",
    "import numpy as np\n",
    "import pandas as pd\n",
    "import matplotlib.pylab as plt\n",
    "%matplotlib inline\n",
    "from statsmodels.tsa.stattools import adfuller\n",
    "from sklearn.metrics import mean_squared_error,mean_absolute_error\n",
    "from statsmodels.tsa.stattools import acf, pacf\n",
    "from statsmodels.tsa.seasonal import seasonal_decompose\n",
    "from statsmodels.tsa.arima.model import ARIMA\n",
    "from statsmodels.tsa.ar_model import AutoReg\n",
    "from statsmodels.graphics.tsaplots import plot_acf, plot_pacf\n",
    "from matplotlib.pylab import rcParams\n",
    "import math\n",
    "\n",
    "\n",
    "from scipy.stats import boxcox\n",
    "rcParams['figure.figsize']=10,6"
   ]
  },
  {
   "cell_type": "code",
   "execution_count": 2,
   "metadata": {},
   "outputs": [],
   "source": [
    "df= pd.read_csv('week.csv')"
   ]
  },
  {
   "cell_type": "code",
   "execution_count": 3,
   "metadata": {},
   "outputs": [
    {
     "data": {
      "text/html": [
       "<div>\n",
       "<style scoped>\n",
       "    .dataframe tbody tr th:only-of-type {\n",
       "        vertical-align: middle;\n",
       "    }\n",
       "\n",
       "    .dataframe tbody tr th {\n",
       "        vertical-align: top;\n",
       "    }\n",
       "\n",
       "    .dataframe thead th {\n",
       "        text-align: right;\n",
       "    }\n",
       "</style>\n",
       "<table border=\"1\" class=\"dataframe\">\n",
       "  <thead>\n",
       "    <tr style=\"text-align: right;\">\n",
       "      <th></th>\n",
       "      <th>Date</th>\n",
       "      <th>Price</th>\n",
       "      <th>Open</th>\n",
       "      <th>High</th>\n",
       "      <th>Low</th>\n",
       "      <th>Change %</th>\n",
       "      <th>Unnamed: 6</th>\n",
       "      <th>Unnamed: 7</th>\n",
       "    </tr>\n",
       "  </thead>\n",
       "  <tbody>\n",
       "    <tr>\n",
       "      <th>0</th>\n",
       "      <td>3/25/2012</td>\n",
       "      <td>22555.23</td>\n",
       "      <td>22555.23</td>\n",
       "      <td>22555.23</td>\n",
       "      <td>22555.23</td>\n",
       "      <td>1.94%</td>\n",
       "      <td>NaN</td>\n",
       "      <td>NaN</td>\n",
       "    </tr>\n",
       "    <tr>\n",
       "      <th>1</th>\n",
       "      <td>4/1/2012</td>\n",
       "      <td>22609.23</td>\n",
       "      <td>22609.23</td>\n",
       "      <td>22609.23</td>\n",
       "      <td>22609.23</td>\n",
       "      <td>0.24%</td>\n",
       "      <td>NaN</td>\n",
       "      <td>NaN</td>\n",
       "    </tr>\n",
       "    <tr>\n",
       "      <th>2</th>\n",
       "      <td>4/8/2012</td>\n",
       "      <td>22350.63</td>\n",
       "      <td>22350.63</td>\n",
       "      <td>22350.63</td>\n",
       "      <td>22350.63</td>\n",
       "      <td>-1.14%</td>\n",
       "      <td>NaN</td>\n",
       "      <td>NaN</td>\n",
       "    </tr>\n",
       "    <tr>\n",
       "      <th>3</th>\n",
       "      <td>4/15/2012</td>\n",
       "      <td>22400.57</td>\n",
       "      <td>22400.57</td>\n",
       "      <td>22400.57</td>\n",
       "      <td>22400.57</td>\n",
       "      <td>0.22%</td>\n",
       "      <td>NaN</td>\n",
       "      <td>NaN</td>\n",
       "    </tr>\n",
       "    <tr>\n",
       "      <th>4</th>\n",
       "      <td>4/22/2012</td>\n",
       "      <td>22216.19</td>\n",
       "      <td>22216.19</td>\n",
       "      <td>22216.19</td>\n",
       "      <td>22216.19</td>\n",
       "      <td>-0.82%</td>\n",
       "      <td>NaN</td>\n",
       "      <td>NaN</td>\n",
       "    </tr>\n",
       "    <tr>\n",
       "      <th>...</th>\n",
       "      <td>...</td>\n",
       "      <td>...</td>\n",
       "      <td>...</td>\n",
       "      <td>...</td>\n",
       "      <td>...</td>\n",
       "      <td>...</td>\n",
       "      <td>...</td>\n",
       "      <td>...</td>\n",
       "    </tr>\n",
       "    <tr>\n",
       "      <th>548</th>\n",
       "      <td>11/13/2022</td>\n",
       "      <td>33958.13</td>\n",
       "      <td>34126.09</td>\n",
       "      <td>34191.06</td>\n",
       "      <td>33809.20</td>\n",
       "      <td>-1.18%</td>\n",
       "      <td>NaN</td>\n",
       "      <td>NaN</td>\n",
       "    </tr>\n",
       "    <tr>\n",
       "      <th>549</th>\n",
       "      <td>11/20/2022</td>\n",
       "      <td>34338.17</td>\n",
       "      <td>34045.37</td>\n",
       "      <td>34453.36</td>\n",
       "      <td>33940.51</td>\n",
       "      <td>1.12%</td>\n",
       "      <td>NaN</td>\n",
       "      <td>NaN</td>\n",
       "    </tr>\n",
       "    <tr>\n",
       "      <th>550</th>\n",
       "      <td>11/27/2022</td>\n",
       "      <td>35222.81</td>\n",
       "      <td>34356.51</td>\n",
       "      <td>35222.81</td>\n",
       "      <td>34356.51</td>\n",
       "      <td>2.58%</td>\n",
       "      <td>NaN</td>\n",
       "      <td>NaN</td>\n",
       "    </tr>\n",
       "    <tr>\n",
       "      <th>551</th>\n",
       "      <td>12/4/2022</td>\n",
       "      <td>33872.60</td>\n",
       "      <td>35026.20</td>\n",
       "      <td>35026.20</td>\n",
       "      <td>33872.60</td>\n",
       "      <td>-3.83%</td>\n",
       "      <td>NaN</td>\n",
       "      <td>NaN</td>\n",
       "    </tr>\n",
       "    <tr>\n",
       "      <th>552</th>\n",
       "      <td>12/11/2022</td>\n",
       "      <td>34015.46</td>\n",
       "      <td>33941.51</td>\n",
       "      <td>34241.58</td>\n",
       "      <td>33864.03</td>\n",
       "      <td>0.42%</td>\n",
       "      <td>NaN</td>\n",
       "      <td>NaN</td>\n",
       "    </tr>\n",
       "  </tbody>\n",
       "</table>\n",
       "<p>553 rows × 8 columns</p>\n",
       "</div>"
      ],
      "text/plain": [
       "           Date     Price      Open      High       Low Change %  Unnamed: 6  \\\n",
       "0     3/25/2012  22555.23  22555.23  22555.23  22555.23    1.94%         NaN   \n",
       "1      4/1/2012  22609.23  22609.23  22609.23  22609.23    0.24%         NaN   \n",
       "2      4/8/2012  22350.63  22350.63  22350.63  22350.63   -1.14%         NaN   \n",
       "3     4/15/2012  22400.57  22400.57  22400.57  22400.57    0.22%         NaN   \n",
       "4     4/22/2012  22216.19  22216.19  22216.19  22216.19   -0.82%         NaN   \n",
       "..          ...       ...       ...       ...       ...      ...         ...   \n",
       "548  11/13/2022  33958.13  34126.09  34191.06  33809.20   -1.18%         NaN   \n",
       "549  11/20/2022  34338.17  34045.37  34453.36  33940.51    1.12%         NaN   \n",
       "550  11/27/2022  35222.81  34356.51  35222.81  34356.51    2.58%         NaN   \n",
       "551   12/4/2022  33872.60  35026.20  35026.20  33872.60   -3.83%         NaN   \n",
       "552  12/11/2022  34015.46  33941.51  34241.58  33864.03    0.42%         NaN   \n",
       "\n",
       "     Unnamed: 7  \n",
       "0           NaN  \n",
       "1           NaN  \n",
       "2           NaN  \n",
       "3           NaN  \n",
       "4           NaN  \n",
       "..          ...  \n",
       "548         NaN  \n",
       "549         NaN  \n",
       "550         NaN  \n",
       "551         NaN  \n",
       "552         NaN  \n",
       "\n",
       "[553 rows x 8 columns]"
      ]
     },
     "execution_count": 3,
     "metadata": {},
     "output_type": "execute_result"
    }
   ],
   "source": [
    "df"
   ]
  },
  {
   "cell_type": "code",
   "execution_count": 4,
   "metadata": {},
   "outputs": [],
   "source": [
    "df.drop('Unnamed: 6', axis=1, inplace=True)"
   ]
  },
  {
   "cell_type": "code",
   "execution_count": 5,
   "metadata": {},
   "outputs": [],
   "source": [
    "df.drop('Unnamed: 7', axis=1, inplace=True)"
   ]
  },
  {
   "cell_type": "code",
   "execution_count": 6,
   "metadata": {},
   "outputs": [
    {
     "data": {
      "text/html": [
       "<div>\n",
       "<style scoped>\n",
       "    .dataframe tbody tr th:only-of-type {\n",
       "        vertical-align: middle;\n",
       "    }\n",
       "\n",
       "    .dataframe tbody tr th {\n",
       "        vertical-align: top;\n",
       "    }\n",
       "\n",
       "    .dataframe thead th {\n",
       "        text-align: right;\n",
       "    }\n",
       "</style>\n",
       "<table border=\"1\" class=\"dataframe\">\n",
       "  <thead>\n",
       "    <tr style=\"text-align: right;\">\n",
       "      <th></th>\n",
       "      <th>Date</th>\n",
       "      <th>Price</th>\n",
       "      <th>Open</th>\n",
       "      <th>High</th>\n",
       "      <th>Low</th>\n",
       "      <th>Change %</th>\n",
       "    </tr>\n",
       "  </thead>\n",
       "  <tbody>\n",
       "    <tr>\n",
       "      <th>0</th>\n",
       "      <td>3/25/2012</td>\n",
       "      <td>22555.23</td>\n",
       "      <td>22555.23</td>\n",
       "      <td>22555.23</td>\n",
       "      <td>22555.23</td>\n",
       "      <td>1.94%</td>\n",
       "    </tr>\n",
       "    <tr>\n",
       "      <th>1</th>\n",
       "      <td>4/1/2012</td>\n",
       "      <td>22609.23</td>\n",
       "      <td>22609.23</td>\n",
       "      <td>22609.23</td>\n",
       "      <td>22609.23</td>\n",
       "      <td>0.24%</td>\n",
       "    </tr>\n",
       "    <tr>\n",
       "      <th>2</th>\n",
       "      <td>4/8/2012</td>\n",
       "      <td>22350.63</td>\n",
       "      <td>22350.63</td>\n",
       "      <td>22350.63</td>\n",
       "      <td>22350.63</td>\n",
       "      <td>-1.14%</td>\n",
       "    </tr>\n",
       "    <tr>\n",
       "      <th>3</th>\n",
       "      <td>4/15/2012</td>\n",
       "      <td>22400.57</td>\n",
       "      <td>22400.57</td>\n",
       "      <td>22400.57</td>\n",
       "      <td>22400.57</td>\n",
       "      <td>0.22%</td>\n",
       "    </tr>\n",
       "    <tr>\n",
       "      <th>4</th>\n",
       "      <td>4/22/2012</td>\n",
       "      <td>22216.19</td>\n",
       "      <td>22216.19</td>\n",
       "      <td>22216.19</td>\n",
       "      <td>22216.19</td>\n",
       "      <td>-0.82%</td>\n",
       "    </tr>\n",
       "    <tr>\n",
       "      <th>...</th>\n",
       "      <td>...</td>\n",
       "      <td>...</td>\n",
       "      <td>...</td>\n",
       "      <td>...</td>\n",
       "      <td>...</td>\n",
       "      <td>...</td>\n",
       "    </tr>\n",
       "    <tr>\n",
       "      <th>548</th>\n",
       "      <td>11/13/2022</td>\n",
       "      <td>33958.13</td>\n",
       "      <td>34126.09</td>\n",
       "      <td>34191.06</td>\n",
       "      <td>33809.20</td>\n",
       "      <td>-1.18%</td>\n",
       "    </tr>\n",
       "    <tr>\n",
       "      <th>549</th>\n",
       "      <td>11/20/2022</td>\n",
       "      <td>34338.17</td>\n",
       "      <td>34045.37</td>\n",
       "      <td>34453.36</td>\n",
       "      <td>33940.51</td>\n",
       "      <td>1.12%</td>\n",
       "    </tr>\n",
       "    <tr>\n",
       "      <th>550</th>\n",
       "      <td>11/27/2022</td>\n",
       "      <td>35222.81</td>\n",
       "      <td>34356.51</td>\n",
       "      <td>35222.81</td>\n",
       "      <td>34356.51</td>\n",
       "      <td>2.58%</td>\n",
       "    </tr>\n",
       "    <tr>\n",
       "      <th>551</th>\n",
       "      <td>12/4/2022</td>\n",
       "      <td>33872.60</td>\n",
       "      <td>35026.20</td>\n",
       "      <td>35026.20</td>\n",
       "      <td>33872.60</td>\n",
       "      <td>-3.83%</td>\n",
       "    </tr>\n",
       "    <tr>\n",
       "      <th>552</th>\n",
       "      <td>12/11/2022</td>\n",
       "      <td>34015.46</td>\n",
       "      <td>33941.51</td>\n",
       "      <td>34241.58</td>\n",
       "      <td>33864.03</td>\n",
       "      <td>0.42%</td>\n",
       "    </tr>\n",
       "  </tbody>\n",
       "</table>\n",
       "<p>553 rows × 6 columns</p>\n",
       "</div>"
      ],
      "text/plain": [
       "           Date     Price      Open      High       Low Change %\n",
       "0     3/25/2012  22555.23  22555.23  22555.23  22555.23    1.94%\n",
       "1      4/1/2012  22609.23  22609.23  22609.23  22609.23    0.24%\n",
       "2      4/8/2012  22350.63  22350.63  22350.63  22350.63   -1.14%\n",
       "3     4/15/2012  22400.57  22400.57  22400.57  22400.57    0.22%\n",
       "4     4/22/2012  22216.19  22216.19  22216.19  22216.19   -0.82%\n",
       "..          ...       ...       ...       ...       ...      ...\n",
       "548  11/13/2022  33958.13  34126.09  34191.06  33809.20   -1.18%\n",
       "549  11/20/2022  34338.17  34045.37  34453.36  33940.51    1.12%\n",
       "550  11/27/2022  35222.81  34356.51  35222.81  34356.51    2.58%\n",
       "551   12/4/2022  33872.60  35026.20  35026.20  33872.60   -3.83%\n",
       "552  12/11/2022  34015.46  33941.51  34241.58  33864.03    0.42%\n",
       "\n",
       "[553 rows x 6 columns]"
      ]
     },
     "execution_count": 6,
     "metadata": {},
     "output_type": "execute_result"
    }
   ],
   "source": [
    "df"
   ]
  },
  {
   "cell_type": "code",
   "execution_count": 7,
   "metadata": {},
   "outputs": [
    {
     "name": "stdout",
     "output_type": "stream",
     "text": [
      "<class 'pandas.core.frame.DataFrame'>\n",
      "RangeIndex: 553 entries, 0 to 552\n",
      "Data columns (total 6 columns):\n",
      " #   Column    Non-Null Count  Dtype  \n",
      "---  ------    --------------  -----  \n",
      " 0   Date      553 non-null    object \n",
      " 1   Price     553 non-null    float64\n",
      " 2   Open      553 non-null    float64\n",
      " 3   High      553 non-null    float64\n",
      " 4   Low       553 non-null    float64\n",
      " 5   Change %  553 non-null    object \n",
      "dtypes: float64(4), object(2)\n",
      "memory usage: 26.0+ KB\n"
     ]
    }
   ],
   "source": [
    "df.info()"
   ]
  },
  {
   "cell_type": "code",
   "execution_count": 8,
   "metadata": {},
   "outputs": [],
   "source": [
    "series=df[['Date','High']]"
   ]
  },
  {
   "cell_type": "code",
   "execution_count": 9,
   "metadata": {},
   "outputs": [],
   "source": [
    "series=series.set_index(['Date'])"
   ]
  },
  {
   "cell_type": "code",
   "execution_count": 10,
   "metadata": {},
   "outputs": [],
   "source": [
    "# #Visualize the data\n",
    "# plt.xlabel('Date')\n",
    "# plt.ylabel('High')\n",
    "# plt.plot(series)"
   ]
  },
  {
   "cell_type": "markdown",
   "metadata": {},
   "source": []
  },
  {
   "cell_type": "code",
   "execution_count": 11,
   "metadata": {},
   "outputs": [],
   "source": [
    "#  def decompose(timeseries):\n",
    "#     timeseries.dropna(inplace=True)\n",
    "#     decomposition=seasonal_decompose(timeseries)\n",
    "#     trend=decomposition.trend\n",
    "#     seasonal=decomposition.seasonal\n",
    "#     residual=decomposition.resid\n",
    "\n",
    "#     #create subplots for the data visualization\n",
    "#     fig, (ax1, ax2,ax3, ax4) =plt.subplots (4, sharex=True, constrained_layout=False)\n",
    "#     ax1. set_title (\" Visualizations for Timeseries,Trend, Seasonality and Resudials\" )\n",
    "\n",
    "#     l1, =ax1.plot(timeseries,color='blue')\n",
    "\n",
    "#     l2, =ax2.plot(trend,color='red')\n",
    "\n",
    "#     l3, =ax3.plot(seasonal,color='green')\n",
    "\n",
    "#     l4, =ax4.plot(residual,color='blue')\n",
    "#     labels=['Time series','Tremd','Seasonality', 'Residuals']\n",
    "\n",
    "#     fig.legend(labels=labels, loc= 'lower center', ncol=5)\n",
    "#     plt.show()"
   ]
  },
  {
   "cell_type": "code",
   "execution_count": 12,
   "metadata": {},
   "outputs": [],
   "source": [
    "# decompose(series)"
   ]
  },
  {
   "cell_type": "code",
   "execution_count": 13,
   "metadata": {},
   "outputs": [],
   "source": [
    "# #Determine rolling statistics\n",
    "# rolmean=series.rolling(window=12).mean()\n",
    "# rolstd=series.rolling(window=12).std()\n",
    "\n",
    "# #plot rolling statistics\n",
    "# orig=plt.plot(series,color='blue',label='Original')\n",
    "# aveg=plt.plot(rolmean,color='red',label='Rolling Mean')\n",
    "# std=plt.plot(rolstd,color='green',label='Rolling Std')\n",
    "# plt.legend(loc='best')\n",
    "# plt.xlabel('Date')\n",
    "# plt.title(\"Rolling Mean and Standard Deviation\")\n",
    "# plt.show ()"
   ]
  },
  {
   "cell_type": "code",
   "execution_count": 14,
   "metadata": {},
   "outputs": [],
   "source": [
    "# #Perform argumented Dicker Fuller Test\n",
    "# def adft(timeseries):\n",
    "#     print('Results of ADFT')\n",
    "#     adftest=adfuller(timeseries['High'],autolag='AIC')\n",
    "#     dfout=pd.Series(adftest[0:4],index=['Test Statistic','P-High','#Lags Used','Number of Observations used'])\n",
    "#     for key, High in adftest[4].items():\n",
    "#         dfout['Critical High (%s)' %key]=High\n",
    "#     print(dfout)\n",
    "# adft(series)"
   ]
  },
  {
   "cell_type": "code",
   "execution_count": 15,
   "metadata": {},
   "outputs": [],
   "source": [
    "# #remove trend using moving average on log transformed time-series\n",
    "# #1. log transform the timeseries\n",
    "# series_lgs= series\n",
    "# series_lgs['High']=boxcox(series_lgs['High'], lmbda=0.0)\n",
    "# #2. compute moving average on logged data\n",
    "# mAvg= series_lgs.rolling(window=12).mean()\n",
    "# #3.subtract moving average from the log  transformed time series, to detrend the series\n",
    "# series_dt=series_lgs-mAvg\n",
    "# series_dt.dropna(inplace=True)"
   ]
  },
  {
   "cell_type": "code",
   "execution_count": 16,
   "metadata": {},
   "outputs": [],
   "source": [
    "# #decompose the timeseries after detrending\n",
    "# decompose(series)\n",
    "# # visualize timeseries after detrending\n",
    "# plt.xlabel('Date')\n",
    "# plt.ylabel('High')\n",
    "# plt.plot(series)"
   ]
  },
  {
   "cell_type": "code",
   "execution_count": 17,
   "metadata": {},
   "outputs": [],
   "source": [
    "# #remove seasonality using exponential decay transformation\n",
    "# indf_et=series.ewm(halflife=12, min_periods=0, adjust=True).mean()\n",
    "# indf_rs=series-indf_et\n",
    "# indf_rs.dropna(inplace=True)"
   ]
  },
  {
   "cell_type": "code",
   "execution_count": 18,
   "metadata": {},
   "outputs": [],
   "source": [
    "# #perform ADF test once more\n",
    "# adft(series)"
   ]
  },
  {
   "cell_type": "code",
   "execution_count": 19,
   "metadata": {},
   "outputs": [],
   "source": [
    "# # split the dataset into train and test\n",
    "# ar_val=series.values\n",
    "# train=ar_val[1:len(ar_val)-10]\n",
    "# test=ar_val[len(ar_val)-10:]"
   ]
  },
  {
   "cell_type": "code",
   "execution_count": 20,
   "metadata": {},
   "outputs": [],
   "source": [
    "# #run the model\n",
    "# model=ARIMA(train, order=(2,1,2))\n",
    "# model=model.fit(method_kwargs={'warn_convergence':False})\n",
    "# pred=model.predict(start=len(train),end=len(train)+len(test)-1, dynamic= False)\n",
    "# ar_score=mean_squared_error(test, pred)\n",
    "# print('AR MSE: {}'.format(round(ar_score,4)))"
   ]
  },
  {
   "cell_type": "code",
   "execution_count": 21,
   "metadata": {},
   "outputs": [],
   "source": [
    "# plt.plot(test,label='true values',color='blue')\n",
    "# plt.plot (pred, label='forecasts',color='red')\n",
    "# plt. title(' High')\n",
    "# plt.legend(loc='best')\n"
   ]
  },
  {
   "cell_type": "code",
   "execution_count": 22,
   "metadata": {},
   "outputs": [
    {
     "data": {
      "text/plain": [
       "<matplotlib.legend.Legend at 0x231e2742430>"
      ]
     },
     "execution_count": 22,
     "metadata": {},
     "output_type": "execute_result"
    },
    {
     "data": {
      "image/png": "[encoded data removed]",
      "text/plain": [
       "<Figure size 864x504 with 1 Axes>"
      ]
     },
     "metadata": {
      "needs_background": "light"
     },
     "output_type": "display_data"
    }
   ],
   "source": [
    "train_data, test_data = series[0:int(len(series)*0.8)], series[int(len(series)*0.8):]\n",
    "plt.figure(figsize=(12,7))\n",
    "plt.title('series Prices')\n",
    "plt.xlabel('Dates')\n",
    "plt.ylabel('Prices')\n",
    "plt.plot(series['High'], 'blue', label='Training Data')\n",
    "plt.plot(test_data['High'], 'green', label='Testing Data')\n",
    "plt.legend()"
   ]
  },
  {
   "cell_type": "code",
   "execution_count": 23,
   "metadata": {},
   "outputs": [
    {
     "name": "stdout",
     "output_type": "stream",
     "text": [
      "<class 'list'>\n"
     ]
    },
    {
     "name": "stderr",
     "output_type": "stream",
     "text": [
      "d:\\anaconda\\lib\\site-packages\\statsmodels\\tsa\\statespace\\sarimax.py:966: UserWarning: Non-stationary starting autoregressive parameters found. Using zeros as starting parameters.\n",
      "  warn('Non-stationary starting autoregressive parameters'\n",
      "d:\\anaconda\\lib\\site-packages\\statsmodels\\tsa\\statespace\\sarimax.py:978: UserWarning: Non-invertible starting MA parameters found. Using zeros as starting parameters.\n",
      "  warn('Non-invertible starting MA parameters found.'\n"
     ]
    },
    {
     "name": "stdout",
     "output_type": "stream",
     "text": [
      "Testing Mean Squared Error: 274103.660\n",
      "Symmetric mean absolute percentage error: 1.267\n"
     ]
    }
   ],
   "source": [
    "def smape_kun(y_true, y_pred):\n",
    "    return np.mean((np.abs(y_pred - y_true) * 200/ (np.abs(y_pred) + np.abs(y_true))))\n",
    "\n",
    "train_ar = train_data['High'].values\n",
    "test_ar = test_data['High'].values\n",
    "\n",
    "history = [x for x in train_ar]\n",
    "print(type(history))\n",
    "predictions = list()\n",
    "for t in range(len(test_ar)):\n",
    "    model = ARIMA(history, order=(5,1,2))\n",
    "    model_fit = model.fit()\n",
    "    output = model_fit.forecast()\n",
    "    yhat = output[0]\n",
    "    predictions.append(yhat)\n",
    "    obs = test_ar[t]\n",
    "    history.append(obs)\n",
    "    #print('predicted=%f, expected=%f' % (yhat, obs))\n",
    "error = mean_squared_error(test_ar, predictions)\n",
    "print('Testing Mean Squared Error: %.3f' % error)\n",
    "error2 = smape_kun(test_ar, predictions)\n",
    "print('Symmetric mean absolute percentage error: %.3f' % error2)"
   ]
  },
  {
   "cell_type": "markdown",
   "metadata": {},
   "source": []
  },
  {
   "cell_type": "code",
   "execution_count": 24,
   "metadata": {},
   "outputs": [
    {
     "data": {
      "text/plain": [
       "<matplotlib.legend.Legend at 0x231e3fa76d0>"
      ]
     },
     "execution_count": 24,
     "metadata": {},
     "output_type": "execute_result"
    },
    {
     "data": {
      "image/png": "[encoded data removed]",
      "text/plain": [
       "<Figure size 864x504 with 1 Axes>"
      ]
     },
     "metadata": {
      "needs_background": "light"
     },
     "output_type": "display_data"
    }
   ],
   "source": [
    "plt.figure(figsize=(12,7))\n",
    "plt.plot(test_data.index, predictions, color='green', marker='o', linestyle='dashed', \n",
    "         label='Predicted Price')\n",
    "plt.plot(test_data.index, test_data[\"High\"], color='red', label='Actual Price')\n",
    "plt.title('AAPL Prices Prediction')\n",
    "plt.xlabel('Dates')\n",
    "plt.ylabel('Prices')\n",
    "plt.legend()"
   ]
  },
  {
   "cell_type": "code",
   "execution_count": 25,
   "metadata": {},
   "outputs": [
    {
     "name": "stdout",
     "output_type": "stream",
     "text": [
      "     Actual     Predicted\n",
      "0  26393.38  26310.203154\n",
      "1  27257.82  26350.720884\n",
      "2  28182.56  27316.036710\n",
      "3  28478.21  28242.194062\n",
      "4  29463.64  28438.677448\n",
      "5  29547.97  29438.110119\n",
      "6  29973.45  29631.612437\n",
      "7  30814.60  30039.953063\n",
      "8  30965.08  30894.700330\n",
      "9  30651.13  31036.240545\n"
     ]
    }
   ],
   "source": [
    "actual=pd.DataFrame()\n",
    "actual=pd.DataFrame(test_ar,columns=[\"Actual\"])\n",
    "predicted=pd.DataFrame(list(predictions),columns=[\"Predicted\"])\n",
    "actual=actual.reset_index(drop=True)\n",
    "predicted=predicted.reset_index(drop=True)\n",
    "output=pd.concat([actual,predicted],axis=1)\n",
    "print(output.head(10))"
   ]
  },
  {
   "cell_type": "code",
   "execution_count": 26,
   "metadata": {},
   "outputs": [
    {
     "data": {
      "text/html": [
       "<div>\n",
       "<style scoped>\n",
       "    .dataframe tbody tr th:only-of-type {\n",
       "        vertical-align: middle;\n",
       "    }\n",
       "\n",
       "    .dataframe tbody tr th {\n",
       "        vertical-align: top;\n",
       "    }\n",
       "\n",
       "    .dataframe thead th {\n",
       "        text-align: right;\n",
       "    }\n",
       "</style>\n",
       "<table border=\"1\" class=\"dataframe\">\n",
       "  <thead>\n",
       "    <tr style=\"text-align: right;\">\n",
       "      <th></th>\n",
       "      <th>High</th>\n",
       "    </tr>\n",
       "    <tr>\n",
       "      <th>Date</th>\n",
       "      <th></th>\n",
       "    </tr>\n",
       "  </thead>\n",
       "  <tbody>\n",
       "    <tr>\n",
       "      <th>3/25/2012</th>\n",
       "      <td>22555.23</td>\n",
       "    </tr>\n",
       "    <tr>\n",
       "      <th>4/1/2012</th>\n",
       "      <td>22609.23</td>\n",
       "    </tr>\n",
       "    <tr>\n",
       "      <th>4/8/2012</th>\n",
       "      <td>22350.63</td>\n",
       "    </tr>\n",
       "    <tr>\n",
       "      <th>4/15/2012</th>\n",
       "      <td>22400.57</td>\n",
       "    </tr>\n",
       "    <tr>\n",
       "      <th>4/22/2012</th>\n",
       "      <td>22216.19</td>\n",
       "    </tr>\n",
       "    <tr>\n",
       "      <th>...</th>\n",
       "      <td>...</td>\n",
       "    </tr>\n",
       "    <tr>\n",
       "      <th>11/13/2022</th>\n",
       "      <td>34191.06</td>\n",
       "    </tr>\n",
       "    <tr>\n",
       "      <th>11/20/2022</th>\n",
       "      <td>34453.36</td>\n",
       "    </tr>\n",
       "    <tr>\n",
       "      <th>11/27/2022</th>\n",
       "      <td>35222.81</td>\n",
       "    </tr>\n",
       "    <tr>\n",
       "      <th>12/4/2022</th>\n",
       "      <td>35026.20</td>\n",
       "    </tr>\n",
       "    <tr>\n",
       "      <th>12/11/2022</th>\n",
       "      <td>34241.58</td>\n",
       "    </tr>\n",
       "  </tbody>\n",
       "</table>\n",
       "<p>553 rows × 1 columns</p>\n",
       "</div>"
      ],
      "text/plain": [
       "                High\n",
       "Date                \n",
       "3/25/2012   22555.23\n",
       "4/1/2012    22609.23\n",
       "4/8/2012    22350.63\n",
       "4/15/2012   22400.57\n",
       "4/22/2012   22216.19\n",
       "...              ...\n",
       "11/13/2022  34191.06\n",
       "11/20/2022  34453.36\n",
       "11/27/2022  35222.81\n",
       "12/4/2022   35026.20\n",
       "12/11/2022  34241.58\n",
       "\n",
       "[553 rows x 1 columns]"
      ]
     },
     "execution_count": 26,
     "metadata": {},
     "output_type": "execute_result"
    }
   ],
   "source": [
    "series"
   ]
  },
  {
   "cell_type": "code",
   "execution_count": 31,
   "metadata": {},
   "outputs": [],
   "source": [
    "fitted = model.fit()"
   ]
  },
  {
   "cell_type": "code",
   "execution_count": 34,
   "metadata": {},
   "outputs": [],
   "source": [
    "fc = fitted.forecast(111, alpha=0.05)"
   ]
  },
  {
   "cell_type": "code",
   "execution_count": 38,
   "metadata": {},
   "outputs": [
    {
     "name": "stdout",
     "output_type": "stream",
     "text": [
      "MSE: 21283530.097947408\n",
      "MAE: 4111.432483745742\n",
      "RMSE: 4613.407644891941\n"
     ]
    },
    {
     "ename": "ValueError",
     "evalue": "Unable to coerce to Series, length must be 1: given 111",
     "output_type": "error",
     "traceback": [
      "\u001b[1;31m---------------------------------------------------------------------------\u001b[0m",
      "\u001b[1;31mValueError\u001b[0m                                Traceback (most recent call last)",
      "\u001b[1;32md:\\final pro\\arima.ipynb Cell 31\u001b[0m in \u001b[0;36m<cell line: 8>\u001b[1;34m()\u001b[0m\n\u001b[0;32m      <a href='vscode-notebook-cell:/d%3A/final%20pro/arima.ipynb#X44sZmlsZQ%3D%3D?line=5'>6</a>\u001b[0m rmse \u001b[39m=\u001b[39m math\u001b[39m.\u001b[39msqrt(mean_squared_error(test_data, fc))\n\u001b[0;32m      <a href='vscode-notebook-cell:/d%3A/final%20pro/arima.ipynb#X44sZmlsZQ%3D%3D?line=6'>7</a>\u001b[0m \u001b[39mprint\u001b[39m(\u001b[39m'\u001b[39m\u001b[39mRMSE: \u001b[39m\u001b[39m'\u001b[39m\u001b[39m+\u001b[39m\u001b[39mstr\u001b[39m(rmse))\n\u001b[1;32m----> <a href='vscode-notebook-cell:/d%3A/final%20pro/arima.ipynb#X44sZmlsZQ%3D%3D?line=7'>8</a>\u001b[0m mape \u001b[39m=\u001b[39m np\u001b[39m.\u001b[39mmean(np\u001b[39m.\u001b[39mabs(fc \u001b[39m-\u001b[39;49m test_data)\u001b[39m/\u001b[39mnp\u001b[39m.\u001b[39mabs(test_data))\n\u001b[0;32m      <a href='vscode-notebook-cell:/d%3A/final%20pro/arima.ipynb#X44sZmlsZQ%3D%3D?line=8'>9</a>\u001b[0m \u001b[39mprint\u001b[39m(\u001b[39m'\u001b[39m\u001b[39mMAPE: \u001b[39m\u001b[39m'\u001b[39m\u001b[39m+\u001b[39m\u001b[39mstr\u001b[39m(mape))\n",
      "File \u001b[1;32md:\\anaconda\\lib\\site-packages\\pandas\\core\\generic.py:2101\u001b[0m, in \u001b[0;36mNDFrame.__array_ufunc__\u001b[1;34m(self, ufunc, method, *inputs, **kwargs)\u001b[0m\n\u001b[0;32m   2097\u001b[0m \u001b[39m@final\u001b[39m\n\u001b[0;32m   2098\u001b[0m \u001b[39mdef\u001b[39;00m \u001b[39m__array_ufunc__\u001b[39m(\n\u001b[0;32m   2099\u001b[0m     \u001b[39mself\u001b[39m, ufunc: np\u001b[39m.\u001b[39mufunc, method: \u001b[39mstr\u001b[39m, \u001b[39m*\u001b[39minputs: Any, \u001b[39m*\u001b[39m\u001b[39m*\u001b[39mkwargs: Any\n\u001b[0;32m   2100\u001b[0m ):\n\u001b[1;32m-> 2101\u001b[0m     \u001b[39mreturn\u001b[39;00m arraylike\u001b[39m.\u001b[39marray_ufunc(\u001b[39mself\u001b[39m, ufunc, method, \u001b[39m*\u001b[39minputs, \u001b[39m*\u001b[39m\u001b[39m*\u001b[39mkwargs)\n",
      "File \u001b[1;32md:\\anaconda\\lib\\site-packages\\pandas\\core\\arraylike.py:263\u001b[0m, in \u001b[0;36marray_ufunc\u001b[1;34m(self, ufunc, method, *inputs, **kwargs)\u001b[0m\n\u001b[0;32m    260\u001b[0m     \u001b[39mreturn\u001b[39;00m result\n\u001b[0;32m    262\u001b[0m \u001b[39m# for binary ops, use our custom dunder methods\u001b[39;00m\n\u001b[1;32m--> 263\u001b[0m result \u001b[39m=\u001b[39m maybe_dispatch_ufunc_to_dunder_op(\u001b[39mself\u001b[39m, ufunc, method, \u001b[39m*\u001b[39minputs, \u001b[39m*\u001b[39m\u001b[39m*\u001b[39mkwargs)\n\u001b[0;32m    264\u001b[0m \u001b[39mif\u001b[39;00m result \u001b[39mis\u001b[39;00m \u001b[39mnot\u001b[39;00m \u001b[39mNotImplemented\u001b[39m:\n\u001b[0;32m    265\u001b[0m     \u001b[39mreturn\u001b[39;00m result\n",
      "File \u001b[1;32md:\\anaconda\\lib\\site-packages\\pandas\\_libs\\ops_dispatch.pyx:113\u001b[0m, in \u001b[0;36mpandas._libs.ops_dispatch.maybe_dispatch_ufunc_to_dunder_op\u001b[1;34m()\u001b[0m\n",
      "File \u001b[1;32md:\\anaconda\\lib\\site-packages\\pandas\\core\\ops\\common.py:70\u001b[0m, in \u001b[0;36m_unpack_zerodim_and_defer.<locals>.new_method\u001b[1;34m(self, other)\u001b[0m\n\u001b[0;32m     66\u001b[0m             \u001b[39mreturn\u001b[39;00m \u001b[39mNotImplemented\u001b[39m\n\u001b[0;32m     68\u001b[0m other \u001b[39m=\u001b[39m item_from_zerodim(other)\n\u001b[1;32m---> 70\u001b[0m \u001b[39mreturn\u001b[39;00m method(\u001b[39mself\u001b[39;49m, other)\n",
      "File \u001b[1;32md:\\anaconda\\lib\\site-packages\\pandas\\core\\arraylike.py:112\u001b[0m, in \u001b[0;36mOpsMixin.__rsub__\u001b[1;34m(self, other)\u001b[0m\n\u001b[0;32m    110\u001b[0m \u001b[39m@unpack_zerodim_and_defer\u001b[39m(\u001b[39m\"\u001b[39m\u001b[39m__rsub__\u001b[39m\u001b[39m\"\u001b[39m)\n\u001b[0;32m    111\u001b[0m \u001b[39mdef\u001b[39;00m \u001b[39m__rsub__\u001b[39m(\u001b[39mself\u001b[39m, other):\n\u001b[1;32m--> 112\u001b[0m     \u001b[39mreturn\u001b[39;00m \u001b[39mself\u001b[39;49m\u001b[39m.\u001b[39;49m_arith_method(other, roperator\u001b[39m.\u001b[39;49mrsub)\n",
      "File \u001b[1;32md:\\anaconda\\lib\\site-packages\\pandas\\core\\frame.py:6944\u001b[0m, in \u001b[0;36mDataFrame._arith_method\u001b[1;34m(self, other, op)\u001b[0m\n\u001b[0;32m   6941\u001b[0m axis \u001b[39m=\u001b[39m \u001b[39m1\u001b[39m  \u001b[39m# only relevant for Series other case\u001b[39;00m\n\u001b[0;32m   6942\u001b[0m other \u001b[39m=\u001b[39m ops\u001b[39m.\u001b[39mmaybe_prepare_scalar_for_op(other, (\u001b[39mself\u001b[39m\u001b[39m.\u001b[39mshape[axis],))\n\u001b[1;32m-> 6944\u001b[0m \u001b[39mself\u001b[39m, other \u001b[39m=\u001b[39m ops\u001b[39m.\u001b[39;49malign_method_FRAME(\u001b[39mself\u001b[39;49m, other, axis, flex\u001b[39m=\u001b[39;49m\u001b[39mTrue\u001b[39;49;00m, level\u001b[39m=\u001b[39;49m\u001b[39mNone\u001b[39;49;00m)\n\u001b[0;32m   6946\u001b[0m new_data \u001b[39m=\u001b[39m \u001b[39mself\u001b[39m\u001b[39m.\u001b[39m_dispatch_frame_op(other, op, axis\u001b[39m=\u001b[39maxis)\n\u001b[0;32m   6947\u001b[0m \u001b[39mreturn\u001b[39;00m \u001b[39mself\u001b[39m\u001b[39m.\u001b[39m_construct_result(new_data)\n",
      "File \u001b[1;32md:\\anaconda\\lib\\site-packages\\pandas\\core\\ops\\__init__.py:248\u001b[0m, in \u001b[0;36malign_method_FRAME\u001b[1;34m(left, right, axis, flex, level)\u001b[0m\n\u001b[0;32m    245\u001b[0m \u001b[39mif\u001b[39;00m \u001b[39misinstance\u001b[39m(right, np\u001b[39m.\u001b[39mndarray):\n\u001b[0;32m    247\u001b[0m     \u001b[39mif\u001b[39;00m right\u001b[39m.\u001b[39mndim \u001b[39m==\u001b[39m \u001b[39m1\u001b[39m:\n\u001b[1;32m--> 248\u001b[0m         right \u001b[39m=\u001b[39m to_series(right)\n\u001b[0;32m    250\u001b[0m     \u001b[39melif\u001b[39;00m right\u001b[39m.\u001b[39mndim \u001b[39m==\u001b[39m \u001b[39m2\u001b[39m:\n\u001b[0;32m    251\u001b[0m         \u001b[39mif\u001b[39;00m right\u001b[39m.\u001b[39mshape \u001b[39m==\u001b[39m left\u001b[39m.\u001b[39mshape:\n",
      "File \u001b[1;32md:\\anaconda\\lib\\site-packages\\pandas\\core\\ops\\__init__.py:239\u001b[0m, in \u001b[0;36malign_method_FRAME.<locals>.to_series\u001b[1;34m(right)\u001b[0m\n\u001b[0;32m    237\u001b[0m \u001b[39melse\u001b[39;00m:\n\u001b[0;32m    238\u001b[0m     \u001b[39mif\u001b[39;00m \u001b[39mlen\u001b[39m(left\u001b[39m.\u001b[39mcolumns) \u001b[39m!=\u001b[39m \u001b[39mlen\u001b[39m(right):\n\u001b[1;32m--> 239\u001b[0m         \u001b[39mraise\u001b[39;00m \u001b[39mValueError\u001b[39;00m(\n\u001b[0;32m    240\u001b[0m             msg\u001b[39m.\u001b[39mformat(req_len\u001b[39m=\u001b[39m\u001b[39mlen\u001b[39m(left\u001b[39m.\u001b[39mcolumns), given_len\u001b[39m=\u001b[39m\u001b[39mlen\u001b[39m(right))\n\u001b[0;32m    241\u001b[0m         )\n\u001b[0;32m    242\u001b[0m     right \u001b[39m=\u001b[39m left\u001b[39m.\u001b[39m_constructor_sliced(right, index\u001b[39m=\u001b[39mleft\u001b[39m.\u001b[39mcolumns)\n\u001b[0;32m    243\u001b[0m \u001b[39mreturn\u001b[39;00m right\n",
      "\u001b[1;31mValueError\u001b[0m: Unable to coerce to Series, length must be 1: given 111"
     ]
    }
   ],
   "source": [
    "# report performance\n",
    "mse = mean_squared_error(test_data, fc)\n",
    "print('MSE: '+str(mse))\n",
    "mae = mean_absolute_error(test_data, fc)\n",
    "print('MAE: '+str(mae))\n",
    "rmse = math.sqrt(mean_squared_error(test_data, fc))\n",
    "print('RMSE: '+str(rmse))\n",
    "mape = np.mean(np.abs(fc - test_data)/np.abs(test_data))\n",
    "print('MAPE: '+str(mape))"
   ]
  },
  {
   "cell_type": "code",
   "execution_count": null,
   "metadata": {},
   "outputs": [],
   "source": []
  }
 ],
 "metadata": {
  "kernelspec": {
   "display_name": "base",
   "language": "python",
   "name": "python3"
  },
  "language_info": {
   "codemirror_mode": {
    "name": "ipython",
    "version": 3
   },
   "file_extension": ".py",
   "mimetype": "text/x-python",
   "name": "python",
   "nbconvert_exporter": "python",
   "pygments_lexer": "ipython3",
   "version": "3.9.12"
  },
  "orig_nbformat": 4,
  "vscode": {
   "interpreter": {
    "hash": "5179d32cf6ec497baf3f8a3ef987cc77c5d2dc691fdde20a56316522f61a7323"
   }
  }
 },
 "nbformat": 4,
 "nbformat_minor": 2
}
